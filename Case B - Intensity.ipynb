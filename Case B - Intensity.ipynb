{
 "cells": [
  {
   "cell_type": "code",
   "execution_count": 1,
   "metadata": {},
   "outputs": [],
   "source": [
    "import numpy as np\n",
    "import math\n",
    "import matplotlib.pyplot as plt\n",
    "import time as tim"
   ]
  },
  {
   "cell_type": "code",
   "execution_count": 2,
   "metadata": {},
   "outputs": [],
   "source": [
    "def Nd(x):\n",
    "    \n",
    "    return 0.5*(1 + math.erf(x/math.sqrt(2)))\n",
    "\n",
    "def BS(S, T, E, r, sigma):\n",
    "    d1 = (math.log(S/E) + (r + 0.5*sigma**2)*T)/(sigma*math.sqrt(T))\n",
    "    d2 = d1 - sigma*math.sqrt(T)\n",
    "    N1 = 0.5*(1 + math.erf(d1/math.sqrt(2)))\n",
    "    N2 = 0.5*(1 + math.erf(d2/math.sqrt(2)))\n",
    "    \n",
    "    return S*N1 - E*math.exp(-r*T)*N2 \n",
    "\n",
    "def VarBS(S, T, K, r, sig):\n",
    "    \n",
    "    d = (1/sig*np.sqrt(T))*np.log(K*np.exp(-r*T)/S) + 0.5*sig*np.sqrt(T)\n",
    "    \n",
    "    N1 = 0.5*(1 + math.erf((-d + 2*sig*np.sqrt(T))/math.sqrt(2)))\n",
    "    N2 = 0.5*(1 + math.erf((-d + sig*np.sqrt(T))/math.sqrt(2)))\n",
    "    N3 = 0.5*(1 + math.erf(-d/math.sqrt(2)))\n",
    "    \n",
    "    return (S**2)*np.exp((sig**2)*T)*N1 - 2*K*S*np.exp(-r*T)*N2 + (K**2)*np.exp(-2*r*T)*N3 - (BS(S, T, K, r, sig))**2\n",
    "\n",
    "def ExpTau(T, lam):\n",
    "    \n",
    "    return (1 - np.exp(-lam*T) - lam*T*np.exp(-lam*T))/(1 - np.exp(-lam*T)) + T*np.exp(-lam*T)"
   ]
  },
  {
   "cell_type": "code",
   "execution_count": 4,
   "metadata": {},
   "outputs": [
    {
     "name": "stdout",
     "output_type": "stream",
     "text": [
      "Time taken: 57.2027 seconds.\n",
      "Brute force MC estimate: 38.7459 , [37.5695, 39.9224] with sampling error: 60.0222\n",
      "MC estimate with control variate: 38.7022 , [37.8522, 39.5522] with sampling error: 43.3681\n"
     ]
    }
   ],
   "source": [
    "#Parameters of MC estimation:\n",
    "\n",
    "S_0 = 100. #Initial stock price\n",
    "r = 0.05 #Risk-free rate\n",
    "sig = 0.2 #Stock price volatility\n",
    "K = 100. #Strike price\n",
    "lam = 0.05 #Intensity of departure process\n",
    "\n",
    "T = 10. #Time to expiry\n",
    "N = 2**10 #Number of sub-intervals of [0,T]\n",
    "dt = T/float(N) #Length of each sub-interval\n",
    "\n",
    "M = 10000 #Number of Monte Carlo samples\n",
    "c = -1 #Parameter c of control variate\n",
    "\n",
    "#############################################\n",
    "\n",
    "MC = np.zeros(M)\n",
    "MC_c = np.zeros(M)\n",
    "\n",
    "t1 = tim.time()\n",
    "\n",
    "E_tau = ExpTau(T, lam)\n",
    "\n",
    "for m in range(0, M):\n",
    "    \n",
    "    Z = np.random.normal(0, 1, N)\n",
    "\n",
    "    S = np.zeros(N)\n",
    "    S[0] = S_0\n",
    "    \n",
    "    I = 0 #Indicator: 1 if departure occurs, 0 otherwise\n",
    "    \n",
    "    for i in range(0, N-1):\n",
    "        \n",
    "        S[i+1] = S[i]*np.exp( (r - 0.5*(sig**2))*dt + sig*np.sqrt(dt)*Z[i] )\n",
    "        \n",
    "    for j in range(0, N-1):\n",
    "        \n",
    "        P = np.random.poisson(lam*dt, 1)\n",
    "        \n",
    "        if P >= 1:\n",
    "            I = 1\n",
    "            t = (j+1)*dt\n",
    "            S_t = S[j+1]\n",
    "            break\n",
    "    \n",
    "    if I == 1:\n",
    "        V = np.exp(-r*t)*np.maximum(S_t - K, 0)\n",
    "    else:\n",
    "        V = np.exp(-r*T)*np.maximum(S[N-1] - K, 0)\n",
    "\n",
    "    MC[m] = V\n",
    "    MC_c[m] = V + c*((np.exp(-r*E_tau))*np.maximum(S[int(E_tau/dt)-1] - K, 0) - BS(S_0, E_tau, K, r, sig))\n",
    "\n",
    "t2 = tim.time()\n",
    "\n",
    "#Brute-force MC estimate:\n",
    "\n",
    "mean = np.mean(MC)\n",
    "sd = np.std(MC)\n",
    "CI = [round(mean - 1.96*sd/np.sqrt(M), 4), round(mean + 1.96*sd/np.sqrt(M), 4)]\n",
    "\n",
    "#Control variate:\n",
    "\n",
    "mean_c = np.mean(MC_c)\n",
    "sd_c = np.std(MC_c)\n",
    "CI_c = [round(mean_c - 1.96*sd_c/np.sqrt(M), 4), round(mean_c + 1.96*sd_c/np.sqrt(M), 4)]\n",
    "\n",
    "########################################################\n",
    "\n",
    "print('Time taken:', round((t2 - t1), 4), 'seconds.')\n",
    "print('Brute force MC estimate:', round(mean, 4), ',', CI, 'with sampling error:', round(sd, 4))\n",
    "print('MC estimate with control variate:', round(mean_c, 4), ',', CI_c, 'with sampling error:', round(sd_c, 4))"
   ]
  },
  {
   "cell_type": "code",
   "execution_count": null,
   "metadata": {},
   "outputs": [],
   "source": []
  }
 ],
 "metadata": {
  "kernelspec": {
   "display_name": "Python 3",
   "language": "python",
   "name": "python3"
  },
  "language_info": {
   "codemirror_mode": {
    "name": "ipython",
    "version": 3
   },
   "file_extension": ".py",
   "mimetype": "text/x-python",
   "name": "python",
   "nbconvert_exporter": "python",
   "pygments_lexer": "ipython3",
   "version": "3.7.0"
  }
 },
 "nbformat": 4,
 "nbformat_minor": 2
}
